{
 "cells": [
  {
   "cell_type": "code",
   "execution_count": 1,
   "metadata": {},
   "outputs": [],
   "source": [
    "from pyspark.sql import SparkSession\n",
    "from pyspark.sql.functions import *\n",
    "from pyspark.sql.types import *"
   ]
  },
  {
   "cell_type": "code",
   "execution_count": 2,
   "metadata": {},
   "outputs": [
    {
     "name": "stderr",
     "output_type": "stream",
     "text": [
      "23/06/19 04:25:17 WARN Utils: Your hostname, codespaces-75f113 resolves to a loopback address: 127.0.0.1; using 172.16.5.4 instead (on interface eth0)\n",
      "23/06/19 04:25:17 WARN Utils: Set SPARK_LOCAL_IP if you need to bind to another address\n",
      "Setting default log level to \"WARN\".\n",
      "To adjust logging level use sc.setLogLevel(newLevel). For SparkR, use setLogLevel(newLevel).\n",
      "23/06/19 04:25:19 WARN NativeCodeLoader: Unable to load native-hadoop library for your platform... using builtin-java classes where applicable\n"
     ]
    }
   ],
   "source": [
    "spark = SparkSession.builder.appName(\"ETL\").getOrCreate()"
   ]
  },
  {
   "attachments": {},
   "cell_type": "markdown",
   "metadata": {},
   "source": [
    "## Extract Data"
   ]
  },
  {
   "cell_type": "code",
   "execution_count": 3,
   "metadata": {},
   "outputs": [],
   "source": [
    "compressed_file_path = \"staging/equipment_failure_sensors.txt.gz\"\n",
    "equipament_sensors_path = \"staging/equipment_sensors.csv\"\n",
    "equipament_path = \"staging/equipment.json\""
   ]
  },
  {
   "cell_type": "code",
   "execution_count": 16,
   "metadata": {},
   "outputs": [
    {
     "name": "stdout",
     "output_type": "stream",
     "text": [
      "+--------------------------------------------------------------------------------------+\n",
      "|value                                                                                 |\n",
      "+--------------------------------------------------------------------------------------+\n",
      "|[2021-05-18 0:20:48]\\tERROR\\tsensor[5820]:\\t(temperature\\t311.29, vibration\\t6749.50) |\n",
      "|[2021-05-18 0:20:48]\\tERROR\\tsensor[5820]:\\t(temperature\\t311.29, vibration\\t6749.50) |\n",
      "|[2021-06-14 19:46:9]\\tERROR\\tsensor[3359]:\\t(temperature\\t270.00, vibration\\t-335.39) |\n",
      "|[2020-09-27 22:55:11]\\tERROR\\tsensor[9503]:\\t(temperature\\t255.84, vibration\\t1264.54)|\n",
      "|[2019-02-9 20:56:4]\\tERROR\\tsensor[3437]:\\t(temperature\\t466.57, vibration\\t-1865.26) |\n",
      "+--------------------------------------------------------------------------------------+\n",
      "only showing top 5 rows\n",
      "\n",
      "+-------------+---------+\n",
      "|equipament_id|sensor_id|\n",
      "+-------------+---------+\n",
      "|null         |null     |\n",
      "|1            |4275     |\n",
      "|2            |5212     |\n",
      "|3            |7381     |\n",
      "|4            |396      |\n",
      "+-------------+---------+\n",
      "only showing top 5 rows\n",
      "\n",
      "+------------+----------+--------+\n",
      "|equipment_id|group_name|name    |\n",
      "+------------+----------+--------+\n",
      "|1           |FGHQWR2Q  |5310B9D7|\n",
      "|2           |VAPQY59S  |43B81579|\n",
      "|3           |FGHQWR2Q  |E1AD07D4|\n",
      "|4           |9N127Z5P  |ADE40E7F|\n",
      "|5           |9N127Z5P  |78FFAD0C|\n",
      "+------------+----------+--------+\n",
      "only showing top 5 rows\n",
      "\n"
     ]
    }
   ],
   "source": [
    "schema = StructType(\n",
    "    [\n",
    "        StructField(\"equipment_id\", IntegerType(), True),\n",
    "        StructField(\"sensor_id\", IntegerType(), True)\n",
    "    ]\n",
    "    )\n",
    "\n",
    "equipment_failure_sensors_df = spark.read.text(compressed_file_path)\n",
    "equipament_sensors_df = spark.read.schema(schema).csv(equipament_sensors_path, header=True, sep=\",\")\n",
    "equipament_df = spark.read.json(equipament_path, multiLine=True)\n",
    "\n",
    "equipment_failure_sensors_df.show(5, truncate=False)\n",
    "equipament_sensors_df.show(5, truncate=False)\n",
    "equipament_df.show(5, truncate=False)"
   ]
  },
  {
   "cell_type": "code",
   "execution_count": 107,
   "metadata": {},
   "outputs": [
    {
     "name": "stdout",
     "output_type": "stream",
     "text": [
      "+-------------------+-----+---------+-----------+---------+\n",
      "|timestamp          |level|sensor_id|temperature|vibration|\n",
      "+-------------------+-----+---------+-----------+---------+\n",
      "|2021-05-18 0:20:48 |ERROR|5820     |311.29     |6749.50  |\n",
      "|2021-05-18 0:20:48 |ERROR|5820     |311.29     |6749.50  |\n",
      "|2021-06-14 19:46:9 |ERROR|3359     |270.00     |-335.39  |\n",
      "|2020-09-27 22:55:11|ERROR|9503     |255.84     |1264.54  |\n",
      "|2019-02-9 20:56:4  |ERROR|3437     |466.57     |-1865.26 |\n",
      "+-------------------+-----+---------+-----------+---------+\n",
      "only showing top 5 rows\n",
      "\n"
     ]
    }
   ],
   "source": [
    "equipment_failure_sensors_df = equipment_failure_sensors_df.withColumn(\n",
    "    \"value\", regexp_replace(\"value\", r\"(\\d{4})/(\\d{2})/(\\d{1,2})\", \"$1-$2-$3 00:00:00\"))\n",
    "\n",
    "\n",
    "equipment_failure_sensors_df = equipment_failure_sensors_df.select(\n",
    "    regexp_extract(\"value\", r\"^\\[(.+)\\]\\t\", 1).alias(\"timestamp\"),\n",
    "    regexp_extract(\"value\", r\"\\]\\t(\\w+)\\t\", 1).alias(\"level\"),\n",
    "    regexp_extract(\"value\", r\"sensor\\[(\\d+)\\]\", 1).alias(\"sensor_id\"),\n",
    "    regexp_extract(\"value\", r\"temperature\\t(-?[\\d\\.]+)\", 1).alias(\"temperature\"),\n",
    "    regexp_extract(\"value\", r\"vibration\\t(-?[\\d\\.]+)\", 1).alias(\"vibration\"),\n",
    ")\n",
    "\n",
    "\n",
    "\n",
    "equipment_failure_sensors_df.show(5, truncate=False)"
   ]
  },
  {
   "cell_type": "code",
   "execution_count": 108,
   "metadata": {},
   "outputs": [
    {
     "name": "stdout",
     "output_type": "stream",
     "text": [
      "root\n",
      " |-- timestamp: timestamp (nullable = true)\n",
      " |-- level: string (nullable = true)\n",
      " |-- sensor_id: integer (nullable = true)\n",
      " |-- temperature: double (nullable = true)\n",
      " |-- vibration: double (nullable = true)\n",
      "\n"
     ]
    }
   ],
   "source": [
    "equipment_failure_sensors_df = equipment_failure_sensors_df.withColumn(\"level\", col(\"level\").cast(StringType())) \\\n",
    "    .withColumn(\"timestamp\", col(\"timestamp\").cast(TimestampType())) \\\n",
    "    .withColumn(\"sensor_id\", col(\"sensor_id\").cast(IntegerType())) \\\n",
    "    .withColumn(\"temperature\", col(\"temperature\").cast(DoubleType())) \\\n",
    "    .withColumn(\"vibration\", col(\"vibration\").cast(DoubleType()))\n",
    "\n",
    "equipment_failure_sensors_df.printSchema()"
   ]
  },
  {
   "cell_type": "code",
   "execution_count": null,
   "metadata": {},
   "outputs": [],
   "source": [
    "equipament_sensors_df = equipament_sensors_df.withColumn(\"equipment_id\", col(\"equipment_id\").cast(IntegerType())) \\\n",
    "    .withColumn(\"sensor_id\", col(\"sensor_id\").cast(IntegerType()))\n",
    "\n",
    "equipament_sensors_df.printSchema()"
   ]
  },
  {
   "cell_type": "code",
   "execution_count": null,
   "metadata": {},
   "outputs": [],
   "source": [
    "equipament_df = equipament_df.withColumn(\"equipment_id\", col(\"equipment_id\").cast(IntegerType())) \\\n",
    "    .withColumn(\"group_name\", col(\"group_name\").cast(StringType())) \\\n",
    "    .withColumn(\"name\", col(\"name\").cast(StringType()))\n",
    "\n",
    "equipament_df.printSchema()"
   ]
  },
  {
   "cell_type": "code",
   "execution_count": null,
   "metadata": {},
   "outputs": [
    {
     "name": "stderr",
     "output_type": "stream",
     "text": [
      "                                                                                \r"
     ]
    }
   ],
   "source": [
    "equipment_failure_sensors_df.write.mode(\"overwrite\").parquet(\"raw/equipment_failure_sensors.parquet\")\n",
    "equipament_sensors_df.write.mode(\"overwrite\").parquet(\"raw/equipament_sensors.parquet\")\n",
    "equipament_df.write.mode(\"overwrite\").parquet(\"raw/equipament.parquet\")"
   ]
  },
  {
   "attachments": {},
   "cell_type": "markdown",
   "metadata": {},
   "source": [
    "## Star Schema"
   ]
  },
  {
   "cell_type": "code",
   "execution_count": 80,
   "metadata": {},
   "outputs": [],
   "source": [
    "equipment_failure_sensors_df = spark.read.parquet(\"raw/equipment_failure_sensors.parquet\")\n",
    "equipament_sensors_df = spark.read.parquet(\"raw/equipament_sensors.parquet\")\n",
    "equipament_df = spark.read.parquet(\"raw/equipament.parquet\")\n"
   ]
  },
  {
   "cell_type": "code",
   "execution_count": 115,
   "metadata": {},
   "outputs": [
    {
     "name": "stderr",
     "output_type": "stream",
     "text": [
      "                                                                                \r"
     ]
    },
    {
     "name": "stdout",
     "output_type": "stream",
     "text": [
      "+---------+------------+-------------------+-----+-----------+---------+\n",
      "|sensor_id|equipment_id|timestamp          |level|temperature|vibration|\n",
      "+---------+------------+-------------------+-----+-----------+---------+\n",
      "|5820     |2           |2021-05-18 00:20:48|ERROR|311.29     |6749.5   |\n",
      "|5820     |2           |2021-05-18 00:20:48|ERROR|311.29     |6749.5   |\n",
      "|3359     |12          |2021-06-14 19:46:09|ERROR|270.0      |-335.39  |\n",
      "|9503     |10          |2020-09-27 22:55:11|ERROR|255.84     |1264.54  |\n",
      "|3437     |6           |2019-02-09 20:56:04|ERROR|466.57     |-1865.26 |\n",
      "+---------+------------+-------------------+-----+-----------+---------+\n",
      "only showing top 5 rows\n",
      "\n"
     ]
    },
    {
     "name": "stderr",
     "output_type": "stream",
     "text": [
      "                                                                                \r"
     ]
    }
   ],
   "source": [
    "# Join three tables\n",
    "fact_table = equipment_failure_sensors_df.join(equipament_sensors_df, \"sensor_id\", \"left\") \\\n",
    "    .select(\"sensor_id\", \"equipment_id\", \"timestamp\", \"level\", \"temperature\", \"vibration\")\n",
    "\n",
    "fact_table.show(5, truncate=False)\n",
    "\n",
    "fact_table.write.mode(\"overwrite\").partitionBy(\"equipment_id\", \"sensor_id\").parquet(\"prepared/equipment_failure.parquet\")"
   ]
  },
  {
   "cell_type": "code",
   "execution_count": 118,
   "metadata": {},
   "outputs": [
    {
     "name": "stdout",
     "output_type": "stream",
     "text": [
      "+------------+----------+--------+\n",
      "|equipment_id|group_name|name    |\n",
      "+------------+----------+--------+\n",
      "|1           |FGHQWR2Q  |5310B9D7|\n",
      "|2           |VAPQY59S  |43B81579|\n",
      "|3           |FGHQWR2Q  |E1AD07D4|\n",
      "|4           |9N127Z5P  |ADE40E7F|\n",
      "|5           |9N127Z5P  |78FFAD0C|\n",
      "+------------+----------+--------+\n",
      "only showing top 5 rows\n",
      "\n"
     ]
    }
   ],
   "source": [
    "equipament_dim = equipament_df.select(\"equipment_id\", \"group_name\", \"name\")\n",
    "equipament_dim.show(5, truncate=False)\n",
    "equipament_dim.write.mode(\"overwrite\").parquet(\"prepared/equipament.parquet\")"
   ]
  },
  {
   "attachments": {},
   "cell_type": "markdown",
   "metadata": {},
   "source": [
    "## Analytics"
   ]
  },
  {
   "cell_type": "code",
   "execution_count": null,
   "metadata": {},
   "outputs": [],
   "source": []
  },
  {
   "cell_type": "code",
   "execution_count": null,
   "metadata": {},
   "outputs": [
    {
     "name": "stderr",
     "output_type": "stream",
     "text": [
      "[Stage 36:>                                                         (0 + 1) / 1]\r"
     ]
    },
    {
     "name": "stdout",
     "output_type": "stream",
     "text": [
      "+-------+-------+\n",
      "|  level|  count|\n",
      "+-------+-------+\n",
      "|  ERROR|4749475|\n",
      "|WARNING| 250526|\n",
      "+-------+-------+\n",
      "\n"
     ]
    }
   ],
   "source": [
    "equipment_failure_sensors_df.groupBy(\"level\").count().show()"
   ]
  },
  {
   "cell_type": "code",
   "execution_count": null,
   "metadata": {},
   "outputs": [
    {
     "name": "stderr",
     "output_type": "stream",
     "text": [
      "                                                                                \r"
     ]
    },
    {
     "name": "stderr",
     "output_type": "stream",
     "text": [
      "[Stage 39:>                                                         (0 + 1) / 1]\r"
     ]
    },
    {
     "name": "stdout",
     "output_type": "stream",
     "text": [
      "Total equipment failures:  5000001\n"
     ]
    },
    {
     "name": "stderr",
     "output_type": "stream",
     "text": [
      "                                                                                \r"
     ]
    }
   ],
   "source": [
    "print(\"Total equipment failures: \", equipment_failure_sensors_df.count())"
   ]
  },
  {
   "cell_type": "code",
   "execution_count": null,
   "metadata": {},
   "outputs": [
    {
     "name": "stdout",
     "output_type": "stream",
     "text": [
      "+-------------------+-----+------------+\n",
      "|timestamp          |level|equipment_id|\n",
      "+-------------------+-----+------------+\n",
      "|2021-05-18 00:20:48|ERROR|2           |\n",
      "|2021-05-18 00:20:48|ERROR|2           |\n",
      "|2021-06-14 19:46:09|ERROR|12          |\n",
      "|2020-09-27 22:55:11|ERROR|10          |\n",
      "|2019-02-09 20:56:04|ERROR|6           |\n",
      "+-------------------+-----+------------+\n",
      "only showing top 5 rows\n",
      "\n"
     ]
    }
   ],
   "source": [
    "# Join equipment_failure_sensors with equipament_sensors\n",
    "df = equipment_failure_sensors_df.join(equipament_sensors_df, equipment_failure_sensors_df.sensor == equipament_sensors_df.sensor_id, \"left\")\\\n",
    "    .drop(\"sensor_id\", \"sensor\", \"temperature\", \"vibration\")\n",
    "\n",
    "df.show(5, truncate=False)"
   ]
  },
  {
   "cell_type": "code",
   "execution_count": null,
   "metadata": {},
   "outputs": [
    {
     "name": "stderr",
     "output_type": "stream",
     "text": [
      "[Stage 45:>                                                         (0 + 1) / 1]\r"
     ]
    },
    {
     "name": "stdout",
     "output_type": "stream",
     "text": [
      "+------------+------+\n",
      "|equipment_id|count |\n",
      "+------------+------+\n",
      "|12          |357179|\n",
      "|1           |357220|\n",
      "|13          |357528|\n",
      "|6           |356084|\n",
      "|3           |357627|\n",
      "+------------+------+\n",
      "only showing top 5 rows\n",
      "\n"
     ]
    },
    {
     "name": "stderr",
     "output_type": "stream",
     "text": [
      "                                                                                \r"
     ]
    }
   ],
   "source": [
    "df.groupBy(\"equipment_id\").count().show(5, truncate=False)"
   ]
  },
  {
   "cell_type": "code",
   "execution_count": null,
   "metadata": {},
   "outputs": [],
   "source": []
  }
 ],
 "metadata": {
  "kernelspec": {
   "display_name": "Python 3",
   "language": "python",
   "name": "python3"
  },
  "language_info": {
   "codemirror_mode": {
    "name": "ipython",
    "version": 3
   },
   "file_extension": ".py",
   "mimetype": "text/x-python",
   "name": "python",
   "nbconvert_exporter": "python",
   "pygments_lexer": "ipython3",
   "version": "3.10.8"
  },
  "orig_nbformat": 4
 },
 "nbformat": 4,
 "nbformat_minor": 2
}
