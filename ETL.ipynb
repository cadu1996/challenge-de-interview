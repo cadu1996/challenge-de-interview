{
 "cells": [
  {
   "cell_type": "code",
   "execution_count": 0,
   "metadata": {
    "application/vnd.databricks.v1+cell": {
     "cellMetadata": {},
     "inputWidgets": {},
     "nuid": "d1776305-d1ec-4b34-919b-9b1d7f07db3e",
     "showTitle": false,
     "title": ""
    }
   },
   "outputs": [],
   "source": [
    "from pyspark.sql import SparkSession\n",
    "from pyspark.sql.functions import *\n",
    "from pyspark.sql.types import *"
   ]
  },
  {
   "cell_type": "code",
   "execution_count": 0,
   "metadata": {
    "application/vnd.databricks.v1+cell": {
     "cellMetadata": {},
     "inputWidgets": {},
     "nuid": "b30b571d-2da6-43ce-8094-7e3f4c786c0d",
     "showTitle": false,
     "title": ""
    }
   },
   "outputs": [],
   "source": [
    "spark = SparkSession.builder.appName(\"ETL\").getOrCreate()"
   ]
  },
  {
   "cell_type": "markdown",
   "metadata": {
    "application/vnd.databricks.v1+cell": {
     "cellMetadata": {},
     "inputWidgets": {},
     "nuid": "9c0cc1ea-d8cd-4d9b-8c1b-00dceeb058de",
     "showTitle": false,
     "title": ""
    }
   },
   "source": [
    "## Extract Data"
   ]
  },
  {
   "cell_type": "code",
   "execution_count": 0,
   "metadata": {
    "application/vnd.databricks.v1+cell": {
     "cellMetadata": {},
     "inputWidgets": {},
     "nuid": "9c0078cb-3e40-4c4a-a1d7-de0fd6ce2164",
     "showTitle": false,
     "title": ""
    }
   },
   "outputs": [],
   "source": [
    "compressed_file_path = \"staging/equipment_failure_sensors.txt.gz\"\n",
    "equipament_sensors_path = \"staging/equipment_sensors.csv\"\n",
    "equipament_path = \"staging/equipment.json\""
   ]
  },
  {
   "cell_type": "code",
   "execution_count": 0,
   "metadata": {
    "application/vnd.databricks.v1+cell": {
     "cellMetadata": {},
     "inputWidgets": {},
     "nuid": "6bd4c22a-7579-4858-915c-dfb13c76a859",
     "showTitle": false,
     "title": ""
    }
   },
   "outputs": [],
   "source": [
    "schema = StructType(\n",
    "    [\n",
    "        StructField(\"equipment_id\", IntegerType(), True),\n",
    "        StructField(\"sensor_id\", IntegerType(), True)\n",
    "    ]\n",
    "    )\n",
    "\n",
    "equipment_failure_sensors_df = spark.read.text(compressed_file_path)\n",
    "equipament_sensors_df = spark.read.schema(schema).csv(equipament_sensors_path, header=True, sep=\",\")\n",
    "equipament_df = spark.read.json(equipament_path, multiLine=True)\n",
    "\n",
    "equipment_failure_sensors_df.show(5, truncate=False)\n",
    "equipament_sensors_df.show(5, truncate=False)\n",
    "equipament_df.show(5, truncate=False)"
   ]
  },
  {
   "cell_type": "code",
   "execution_count": 0,
   "metadata": {
    "application/vnd.databricks.v1+cell": {
     "cellMetadata": {},
     "inputWidgets": {},
     "nuid": "accff660-235a-41d7-bb11-b76c49470cc1",
     "showTitle": false,
     "title": ""
    }
   },
   "outputs": [],
   "source": [
    "equipment_failure_sensors_df = equipment_failure_sensors_df.withColumn(\n",
    "    \"value\", regexp_replace(\"value\", r\"(\\d{4})/(\\d{2})/(\\d{1,2})\", \"$1-$2-$3 00:00:00\"))\n",
    "\n",
    "\n",
    "equipment_failure_sensors_df = equipment_failure_sensors_df.select(\n",
    "    regexp_extract(\"value\", r\"^\\[(.+)\\]\\t\", 1).alias(\"timestamp\"),\n",
    "    regexp_extract(\"value\", r\"\\]\\t(\\w+)\\t\", 1).alias(\"level\"),\n",
    "    regexp_extract(\"value\", r\"sensor\\[(\\d+)\\]\", 1).alias(\"sensor_id\"),\n",
    "    regexp_extract(\"value\", r\"temperature\\t(-?[\\d\\.]+)\", 1).alias(\"temperature\"),\n",
    "    regexp_extract(\"value\", r\"vibration\\t(-?[\\d\\.]+)\", 1).alias(\"vibration\"),\n",
    ")\n",
    "\n",
    "\n",
    "\n",
    "equipment_failure_sensors_df.show(5, truncate=False)"
   ]
  },
  {
   "cell_type": "code",
   "execution_count": 0,
   "metadata": {
    "application/vnd.databricks.v1+cell": {
     "cellMetadata": {},
     "inputWidgets": {},
     "nuid": "e95e55ce-db5e-4ae6-981d-342e36144dc0",
     "showTitle": false,
     "title": ""
    }
   },
   "outputs": [],
   "source": [
    "equipment_failure_sensors_df = equipment_failure_sensors_df.withColumn(\"level\", col(\"level\").cast(StringType())) \\\n",
    "    .withColumn(\"timestamp\", col(\"timestamp\").cast(TimestampType())) \\\n",
    "    .withColumn(\"sensor_id\", col(\"sensor_id\").cast(IntegerType())) \\\n",
    "    .withColumn(\"temperature\", col(\"temperature\").cast(DoubleType())) \\\n",
    "    .withColumn(\"vibration\", col(\"vibration\").cast(DoubleType()))\n",
    "\n",
    "equipment_failure_sensors_df.printSchema()"
   ]
  },
  {
   "cell_type": "code",
   "execution_count": 0,
   "metadata": {
    "application/vnd.databricks.v1+cell": {
     "cellMetadata": {},
     "inputWidgets": {},
     "nuid": "9e796af0-c0af-4da0-b740-e7d40ab2ede9",
     "showTitle": false,
     "title": ""
    }
   },
   "outputs": [],
   "source": [
    "equipament_sensors_df = equipament_sensors_df.withColumn(\"equipment_id\", col(\"equipment_id\").cast(IntegerType())) \\\n",
    "    .withColumn(\"sensor_id\", col(\"sensor_id\").cast(IntegerType()))\n",
    "\n",
    "equipament_sensors_df.printSchema()"
   ]
  },
  {
   "cell_type": "code",
   "execution_count": 0,
   "metadata": {
    "application/vnd.databricks.v1+cell": {
     "cellMetadata": {},
     "inputWidgets": {},
     "nuid": "dbcc136b-975e-405c-bf84-4b68c97cabc3",
     "showTitle": false,
     "title": ""
    }
   },
   "outputs": [],
   "source": [
    "equipament_df = equipament_df.withColumn(\"equipment_id\", col(\"equipment_id\").cast(IntegerType())) \\\n",
    "    .withColumn(\"group_name\", col(\"group_name\").cast(StringType())) \\\n",
    "    .withColumn(\"name\", col(\"name\").cast(StringType()))\n",
    "\n",
    "equipament_df.printSchema()"
   ]
  },
  {
   "cell_type": "code",
   "execution_count": 0,
   "metadata": {
    "application/vnd.databricks.v1+cell": {
     "cellMetadata": {},
     "inputWidgets": {},
     "nuid": "dcd24e33-61ba-4285-8b1a-ff4f896378f0",
     "showTitle": false,
     "title": ""
    }
   },
   "outputs": [],
   "source": [
    "equipment_failure_sensors_df.write.mode(\"overwrite\").parquet(\"raw/equipment_failure_sensors.parquet\")\n",
    "equipament_sensors_df.write.mode(\"overwrite\").parquet(\"raw/equipament_sensors.parquet\")\n",
    "equipament_df.write.mode(\"overwrite\").parquet(\"raw/equipament.parquet\")"
   ]
  },
  {
   "cell_type": "markdown",
   "metadata": {
    "application/vnd.databricks.v1+cell": {
     "cellMetadata": {},
     "inputWidgets": {},
     "nuid": "75728464-92a2-4756-8d68-c11a7bcedbc7",
     "showTitle": false,
     "title": ""
    }
   },
   "source": [
    "## Star Schema"
   ]
  },
  {
   "cell_type": "code",
   "execution_count": 0,
   "metadata": {
    "application/vnd.databricks.v1+cell": {
     "cellMetadata": {},
     "inputWidgets": {},
     "nuid": "6e8fd3ea-8c09-49c8-8c1e-c5db23ad096e",
     "showTitle": false,
     "title": ""
    }
   },
   "outputs": [],
   "source": [
    "equipment_failure_sensors_df = spark.read.parquet(\"raw/equipment_failure_sensors.parquet\")\n",
    "equipament_sensors_df = spark.read.parquet(\"raw/equipament_sensors.parquet\")\n",
    "equipament_df = spark.read.parquet(\"raw/equipament.parquet\")\n"
   ]
  },
  {
   "cell_type": "code",
   "execution_count": 0,
   "metadata": {
    "application/vnd.databricks.v1+cell": {
     "cellMetadata": {},
     "inputWidgets": {},
     "nuid": "ab67b12c-92d1-4e9d-9f44-b8f8c65e459a",
     "showTitle": false,
     "title": ""
    }
   },
   "outputs": [],
   "source": [
    "# Join three tables\n",
    "fact_table = equipment_failure_sensors_df.join(equipament_sensors_df, \"sensor_id\", \"left\") \\\n",
    "    .select(\"sensor_id\", \"equipment_id\", \"timestamp\", \"level\", \"temperature\", \"vibration\")\n",
    "\n",
    "fact_table.show(5, truncate=False)\n",
    "\n",
    "fact_table.write.mode(\"overwrite\").partitionBy(\"equipment_id\", \"sensor_id\").parquet(\"prepared/equipment_failure.parquet\")"
   ]
  },
  {
   "cell_type": "code",
   "execution_count": 0,
   "metadata": {
    "application/vnd.databricks.v1+cell": {
     "cellMetadata": {},
     "inputWidgets": {},
     "nuid": "02388b3b-760b-4dc9-b2e6-6265a0e67863",
     "showTitle": false,
     "title": ""
    }
   },
   "outputs": [],
   "source": [
    "equipament_dim = equipament_df.select(\"equipment_id\", \"group_name\", \"name\")\n",
    "equipament_dim.show(5, truncate=False)\n",
    "equipament_dim.write.mode(\"overwrite\").parquet(\"prepared/equipament.parquet\")"
   ]
  },
  {
   "cell_type": "markdown",
   "metadata": {
    "application/vnd.databricks.v1+cell": {
     "cellMetadata": {},
     "inputWidgets": {},
     "nuid": "63e707df-1214-41fe-a444-c324079193af",
     "showTitle": false,
     "title": ""
    }
   },
   "source": [
    "## Analytics"
   ]
  },
  {
   "cell_type": "code",
   "execution_count": 0,
   "metadata": {
    "application/vnd.databricks.v1+cell": {
     "cellMetadata": {},
     "inputWidgets": {},
     "nuid": "9b5ae813-867c-4d31-bedb-0cdd40b35c86",
     "showTitle": false,
     "title": ""
    }
   },
   "outputs": [],
   "source": []
  },
  {
   "cell_type": "code",
   "execution_count": 0,
   "metadata": {
    "application/vnd.databricks.v1+cell": {
     "cellMetadata": {},
     "inputWidgets": {},
     "nuid": "abb51f3f-7ab3-4475-8b7e-64062574a17a",
     "showTitle": false,
     "title": ""
    }
   },
   "outputs": [],
   "source": [
    "equipment_failure_sensors_df.groupBy(\"level\").count().show()"
   ]
  },
  {
   "cell_type": "code",
   "execution_count": 0,
   "metadata": {
    "application/vnd.databricks.v1+cell": {
     "cellMetadata": {},
     "inputWidgets": {},
     "nuid": "7e3f52b6-6c97-402e-9eaa-562c04e4fe70",
     "showTitle": false,
     "title": ""
    }
   },
   "outputs": [],
   "source": [
    "print(\"Total equipment failures: \", equipment_failure_sensors_df.count())"
   ]
  },
  {
   "cell_type": "code",
   "execution_count": 0,
   "metadata": {
    "application/vnd.databricks.v1+cell": {
     "cellMetadata": {},
     "inputWidgets": {},
     "nuid": "9bf27f43-fa97-4e20-a802-1fca91e3cff3",
     "showTitle": false,
     "title": ""
    }
   },
   "outputs": [],
   "source": [
    "# Join equipment_failure_sensors with equipament_sensors\n",
    "df = equipment_failure_sensors_df.join(equipament_sensors_df, equipment_failure_sensors_df.sensor == equipament_sensors_df.sensor_id, \"left\")\\\n",
    "    .drop(\"sensor_id\", \"sensor\", \"temperature\", \"vibration\")\n",
    "\n",
    "df.show(5, truncate=False)"
   ]
  },
  {
   "cell_type": "code",
   "execution_count": 0,
   "metadata": {
    "application/vnd.databricks.v1+cell": {
     "cellMetadata": {},
     "inputWidgets": {},
     "nuid": "c9ff1f27-3a4a-40c9-a76c-388c73c2decf",
     "showTitle": false,
     "title": ""
    }
   },
   "outputs": [],
   "source": [
    "df.groupBy(\"equipment_id\").count().show(5, truncate=False)"
   ]
  },
  {
   "cell_type": "code",
   "execution_count": 0,
   "metadata": {
    "application/vnd.databricks.v1+cell": {
     "cellMetadata": {},
     "inputWidgets": {},
     "nuid": "a76ee292-094a-4090-884b-fcce956b0a77",
     "showTitle": false,
     "title": ""
    }
   },
   "outputs": [],
   "source": []
  }
 ],
 "metadata": {
  "application/vnd.databricks.v1+notebook": {
   "dashboards": [],
   "language": "python",
   "notebookMetadata": {},
   "notebookName": "ETL",
   "widgets": {}
  },
  "kernelspec": {
   "display_name": "Python 3",
   "language": "python",
   "name": "python3"
  },
  "language_info": {
   "codemirror_mode": {
    "name": "ipython",
    "version": 3
   },
   "file_extension": ".py",
   "mimetype": "text/x-python",
   "name": "python",
   "nbconvert_exporter": "python",
   "pygments_lexer": "ipython3",
   "version": "3.10.8"
  },
  "orig_nbformat": 4
 },
 "nbformat": 4,
 "nbformat_minor": 0
}
